{
 "cells": [
  {
   "cell_type": "code",
   "execution_count": 2,
   "metadata": {},
   "outputs": [],
   "source": [
    "class Car:\n",
    "    def __init__(self):\n",
    "        self.wheels = 0\n",
    "    def drive(self):\n",
    "        print(\"Driving\")\n",
    "\n",
    "car = Car()"
   ]
  },
  {
   "cell_type": "code",
   "execution_count": 3,
   "metadata": {},
   "outputs": [
    {
     "name": "stdout",
     "output_type": "stream",
     "text": [
      "Driving\n"
     ]
    }
   ],
   "source": [
    "class BlueCar(Car):\n",
    "    def __init__(self):\n",
    "        self.color = 'blue'\n",
    "\n",
    "b = BlueCar()\n",
    "b.drive()"
   ]
  },
  {
   "cell_type": "code",
   "execution_count": 5,
   "metadata": {},
   "outputs": [
    {
     "name": "stdout",
     "output_type": "stream",
     "text": [
      "100\n"
     ]
    }
   ],
   "source": [
    "x = 5\n",
    "y = x * 2\n",
    "print(y ** 2)"
   ]
  },
  {
   "cell_type": "code",
   "execution_count": 6,
   "metadata": {},
   "outputs": [
    {
     "name": "stdout",
     "output_type": "stream",
     "text": [
      "64\n"
     ]
    }
   ],
   "source": [
    "def doStuff(x, callback):\n",
    "    y = x * 2\n",
    "    callback(y)\n",
    "\n",
    "def myCallback(num):\n",
    "    print(num ** 2)\n",
    "\n",
    "\n",
    "doStuff(4, myCallback) # Prints 64."
   ]
  },
  {
   "cell_type": "code",
   "execution_count": 22,
   "metadata": {},
   "outputs": [],
   "source": [
    "import re\n",
    "mystr = '2023_1_2_6B'\n",
    "pattern = r\"(\\d{4}_\\d_)(\\d)(_.*)\"\n",
    "m = re.match(pattern, mystr)\n",
    "grps = m.groups()\n",
    "\n",
    "class TranslationException(Exception):\n",
    "    pass\n",
    "    \n",
    "def translate(part_no):\n",
    "    if part_no == '2': \n",
    "        return 'II'\n",
    "    elif part_no == '1':\n",
    "        return 'I'\n",
    "    else:\n",
    "        raise TranslationException\n",
    "\n",
    "\n",
    "grps[0] + translate(grps[1]) + grps[2]"
   ]
  },
  {
   "cell_type": "code",
   "execution_count": 23,
   "metadata": {},
   "outputs": [
    {
     "data": {
      "text/plain": [
       "'2023_1_II_6B'"
      ]
     },
     "execution_count": 23,
     "metadata": {},
     "output_type": "execute_result"
    }
   ],
   "source": []
  },
  {
   "cell_type": "code",
   "execution_count": 1,
   "metadata": {},
   "outputs": [
    {
     "name": "stdout",
     "output_type": "stream",
     "text": [
      "5\n",
      "(6, 7, 8)\n",
      "{'pop': 4, 'hi': 2}\n"
     ]
    }
   ],
   "source": [
    "def myFunction(q, *args, **kwargs): #keyword arguments\n",
    "    print(q)\n",
    "    print(args)\n",
    "    print(kwargs)\n",
    "\n",
    "\n",
    "myFunction(5, 6, 7, 8, pop=4, hi=2)"
   ]
  }
 ],
 "metadata": {
  "kernelspec": {
   "display_name": "floria_webdev",
   "language": "python",
   "name": "python3"
  },
  "language_info": {
   "codemirror_mode": {
    "name": "ipython",
    "version": 3
   },
   "file_extension": ".py",
   "mimetype": "text/x-python",
   "name": "python",
   "nbconvert_exporter": "python",
   "pygments_lexer": "ipython3",
   "version": "3.10.4"
  },
  "orig_nbformat": 4
 },
 "nbformat": 4,
 "nbformat_minor": 2
}
